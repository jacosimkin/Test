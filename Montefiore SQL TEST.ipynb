{
 "cells": [
  {
   "cell_type": "markdown",
   "id": "401a47d2-3a38-45a6-a95d-c7d0cad56f08",
   "metadata": {},
   "source": [
    "## Using pyton to run SQL query"
   ]
  },
  {
   "cell_type": "markdown",
   "id": "d0301b22-959a-4421-90e6-c320525f1906",
   "metadata": {},
   "source": [
    "### SQL Tets"
   ]
  },
  {
   "cell_type": "code",
   "execution_count": null,
   "id": "f2ed604f-b796-46f2-ac92-71bef0bc5897",
   "metadata": {},
   "outputs": [],
   "source": [
    "# Importing library needed."
   ]
  },
  {
   "cell_type": "code",
   "execution_count": null,
   "id": "75c14100-86b4-4683-8000-247356c915c2",
   "metadata": {},
   "outputs": [],
   "source": [
    "import pandas as pd"
   ]
  },
  {
   "cell_type": "code",
   "execution_count": null,
   "id": "1dbb0bed-4d0b-4c0a-9973-09ded43791a2",
   "metadata": {},
   "outputs": [],
   "source": [
    "from sqlalchemy import create_engine, Table, Column, MetaData"
   ]
  },
  {
   "cell_type": "code",
   "execution_count": null,
   "id": "84a35649-0e1f-4c84-b4d3-7842282a1d52",
   "metadata": {},
   "outputs": [],
   "source": [
    "# Code to actiavte a temporary SQLite database."
   ]
  },
  {
   "cell_type": "code",
   "execution_count": null,
   "id": "d3ed9a8b-dbc1-4946-a204-dee3f041c4fe",
   "metadata": {},
   "outputs": [],
   "source": [
    "engine = create_engine('sqlite:///:memory:')"
   ]
  },
  {
   "cell_type": "code",
   "execution_count": null,
   "id": "1656fb37-4439-4e98-8768-aed1a01fe416",
   "metadata": {},
   "outputs": [],
   "source": [
    "# File path to open it in the enviroment."
   ]
  },
  {
   "cell_type": "code",
   "execution_count": null,
   "id": "31b90118-8865-4f82-aa8e-cd9e8352fd39",
   "metadata": {},
   "outputs": [],
   "source": [
    "file_path = '/Users/jacobosimkin/Desktop/SQL Tables for DATA ANALYST.xlsx'"
   ]
  },
  {
   "cell_type": "code",
   "execution_count": null,
   "id": "78e9e702-09b2-4027-80e9-f7ca65270d0f",
   "metadata": {},
   "outputs": [],
   "source": [
    "xls = pd.ExcelFile(file_path)"
   ]
  },
  {
   "cell_type": "code",
   "execution_count": null,
   "id": "9ca7126d-d976-4557-885f-c9707d3e82f8",
   "metadata": {},
   "outputs": [],
   "source": [
    "# Read the multple sheets on the file"
   ]
  },
  {
   "cell_type": "code",
   "execution_count": null,
   "id": "7f46680c-4d56-425c-a8b6-5295daaf5803",
   "metadata": {},
   "outputs": [],
   "source": [
    "df_dept = pd.read_excel(file_path, sheet_name='DEPT')\n",
    "df_doc_dept = pd.read_excel(file_path, sheet_name='DOC DEPT')\n",
    "df_pat = pd.read_excel(file_path, sheet_name='Pat')\n",
    "df_provider = pd.read_excel(file_path, sheet_name='Provider')\n",
    "df_visit = pd.read_excel(file_path, sheet_name='Visit')"
   ]
  },
  {
   "cell_type": "code",
   "execution_count": null,
   "id": "4e13dc13-0145-4a88-99ee-535edf45771d",
   "metadata": {},
   "outputs": [],
   "source": [
    "#Code to store pandas DataFrames into SQLite database tables using SQLAlchemy."
   ]
  },
  {
   "cell_type": "code",
   "execution_count": null,
   "id": "8ac9f43f-6d9c-420b-a15f-e0c040fcd10c",
   "metadata": {},
   "outputs": [],
   "source": [
    "df_pat.to_sql('df_pat', engine, index=False)\n",
    "df_visit.to_sql('df_visit', engine, index=False)\n",
    "df_provider.to_sql('df_provider', engine, index=False)\n",
    "df_dept.to_sql('df_dept', engine, index=False)\n",
    "df_doc_dept.to_sql('df_doc_dept', engine, index=False)\n"
   ]
  },
  {
   "cell_type": "code",
   "execution_count": null,
   "id": "a17859a5-7005-4d14-860f-048829a52532",
   "metadata": {},
   "outputs": [],
   "source": [
    "# SQL query."
   ]
  },
  {
   "cell_type": "code",
   "execution_count": null,
   "id": "62bf19e8-0ad2-4f98-814d-9f229586e4fc",
   "metadata": {},
   "outputs": [],
   "source": [
    "sql_query = \"\"\"\n",
    "SELECT\n",
    "    P.PAT_ID,\n",
    "    P.PATIENT,\n",
    "    P.DOB,\n",
    "    PD_CUR.DOC_NAME AS CUR_DOC,\n",
    "    V.VISIT_DATE,\n",
    "    V.VISIT_ID,\n",
    "    PD_VISIT.DOC_NAME AS VISIT_DOC,\n",
    "    D.DEPT_NAME,\n",
    "    CASE WHEN D.FPG_DEPT_FLAG = 1 THEN 'Y' ELSE 'N' END AS VISIT_AT_FPG,\n",
    "    CASE WHEN DD.FPG_DEPT_FLAG = 1 THEN 'Y' ELSE 'N' END AS CUR_DOC_FPG,\n",
    "    CASE WHEN P.CUR_DOC_ID = V.VISIT_DOC_ID THEN 'Y' ELSE 'N' END AS CUR_DOC_IS_VIS_DOC,\n",
    "    CAST((julianday(V.VISIT_DATE) - julianday(P.DOB)) / 365.25 AS INTEGER) AS Age_at_Visit\n",
    "FROM\n",
    "    df_pat P\n",
    "JOIN\n",
    "    df_visit V ON P.PAT_ID = V.PAT_ID\n",
    "JOIN\n",
    "    df_provider PD_CUR ON P.CUR_DOC_ID = PD_CUR.DOC_ID\n",
    "JOIN\n",
    "    df_provider PD_VISIT ON V.VISIT_DOC_ID = PD_VISIT.DOC_ID\n",
    "JOIN\n",
    "    df_dept D ON V.DEPT_ID = D.DEPT_ID\n",
    "JOIN\n",
    "    df_doc_dept DD ON P.CUR_DOC_ID = DD.DOC_ID AND DD.LINE = 1\n",
    "WHERE\n",
    "    D.FPG_DEPT_FLAG = 1;\n",
    "\"\"\""
   ]
  },
  {
   "cell_type": "code",
   "execution_count": null,
   "id": "3be6f01c-2bde-4216-b13d-2ad28da835b5",
   "metadata": {},
   "outputs": [],
   "source": [
    "# Pandas is used to execute a SQL query on a database via an SQLAlchemy Engine object (engine) and store the result in a Dataframe. "
   ]
  },
  {
   "cell_type": "code",
   "execution_count": null,
   "id": "fc0d3650-b9d9-44df-bd93-b25afb832c3e",
   "metadata": {},
   "outputs": [],
   "source": [
    "df_output = pd.read_sql_query(sql_query, engine)"
   ]
  },
  {
   "cell_type": "code",
   "execution_count": null,
   "id": "211c5dea-2418-4265-a084-294a6ca6ca48",
   "metadata": {},
   "outputs": [],
   "source": [
    "# Output"
   ]
  },
  {
   "cell_type": "code",
   "execution_count": null,
   "id": "bee1f3bf-1de0-4650-bf9a-889880056aa7",
   "metadata": {},
   "outputs": [],
   "source": [
    "df_output"
   ]
  },
  {
   "cell_type": "code",
   "execution_count": null,
   "id": "26050cb1-f9b2-48ef-b2d8-8113725c1543",
   "metadata": {},
   "outputs": [],
   "source": []
  },
  {
   "cell_type": "code",
   "execution_count": null,
   "id": "dbf8b935-73ac-40e1-a850-c98aa46f0b03",
   "metadata": {},
   "outputs": [],
   "source": []
  }
 ],
 "metadata": {
  "kernelspec": {
   "display_name": "Python 3 (ipykernel)",
   "language": "python",
   "name": "python3"
  },
  "language_info": {
   "codemirror_mode": {
    "name": "ipython",
    "version": 3
   },
   "file_extension": ".py",
   "mimetype": "text/x-python",
   "name": "python",
   "nbconvert_exporter": "python",
   "pygments_lexer": "ipython3",
   "version": "3.12.4"
  }
 },
 "nbformat": 4,
 "nbformat_minor": 5
}
