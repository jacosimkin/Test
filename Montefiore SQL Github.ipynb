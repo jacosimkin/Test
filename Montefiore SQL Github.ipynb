{
 "cells": [
  {
   "cell_type": "markdown",
   "id": "401a47d2-3a38-45a6-a95d-c7d0cad56f08",
   "metadata": {},
   "source": [
    "## Montefiore SQL Test\n",
    "\n",
    "## Using pyton to run SQL query"
   ]
  },
  {
   "cell_type": "markdown",
   "id": "b2d77036-1a3d-41a1-a977-dcf392059ea5",
   "metadata": {},
   "source": [
    "##### Jacobo Simkin"
   ]
  },
  {
   "cell_type": "markdown",
   "id": "942f7634-0a8d-4a47-8037-14ef125663e6",
   "metadata": {},
   "source": [
    "##### Thank you for taking the time to go over my work. It was a pleasure to complete this task."
   ]
  },
  {
   "cell_type": "code",
   "execution_count": 4,
   "id": "f2ed604f-b796-46f2-ac92-71bef0bc5897",
   "metadata": {},
   "outputs": [],
   "source": [
    "# Importing library needed."
   ]
  },
  {
   "cell_type": "code",
   "execution_count": 6,
   "id": "75c14100-86b4-4683-8000-247356c915c2",
   "metadata": {},
   "outputs": [],
   "source": [
    "import pandas as pd"
   ]
  },
  {
   "cell_type": "code",
   "execution_count": 8,
   "id": "1dbb0bed-4d0b-4c0a-9973-09ded43791a2",
   "metadata": {},
   "outputs": [],
   "source": [
    "from sqlalchemy import create_engine, Table, Column, MetaData"
   ]
  },
  {
   "cell_type": "code",
   "execution_count": 10,
   "id": "84a35649-0e1f-4c84-b4d3-7842282a1d52",
   "metadata": {},
   "outputs": [],
   "source": [
    "# Code to actiavte a temporary SQLite database."
   ]
  },
  {
   "cell_type": "code",
   "execution_count": 12,
   "id": "d3ed9a8b-dbc1-4946-a204-dee3f041c4fe",
   "metadata": {},
   "outputs": [],
   "source": [
    "engine = create_engine('sqlite:///:memory:')"
   ]
  },
  {
   "cell_type": "code",
   "execution_count": 14,
   "id": "1656fb37-4439-4e98-8768-aed1a01fe416",
   "metadata": {},
   "outputs": [],
   "source": [
    "# File path to open it in the enviroment."
   ]
  },
  {
   "cell_type": "code",
   "execution_count": 16,
   "id": "31b90118-8865-4f82-aa8e-cd9e8352fd39",
   "metadata": {},
   "outputs": [],
   "source": [
    "# URL of the raw file on GitHub\n",
    "url = 'https://raw.githubusercontent.com/jacosimkin/Test/main/SQL%20Tables%20for%20DATA%20ANALYST.xlsx'"
   ]
  },
  {
   "cell_type": "code",
   "execution_count": 18,
   "id": "9ca7126d-d976-4557-885f-c9707d3e82f8",
   "metadata": {},
   "outputs": [],
   "source": [
    "# Read the multple sheets on the file"
   ]
  },
  {
   "cell_type": "code",
   "execution_count": 20,
   "id": "7f46680c-4d56-425c-a8b6-5295daaf5803",
   "metadata": {},
   "outputs": [],
   "source": [
    "# Read the Excel file directly from the URL\n",
    "df_dept = pd.read_excel(url, sheet_name='DEPT')\n",
    "df_doc_dept = pd.read_excel(url, sheet_name='DOC DEPT')\n",
    "df_pat = pd.read_excel(url, sheet_name='Pat')\n",
    "df_provider = pd.read_excel(url, sheet_name='Provider')\n",
    "df_visit = pd.read_excel(url, sheet_name='Visit')"
   ]
  },
  {
   "cell_type": "code",
   "execution_count": 21,
   "id": "e7105906-8007-46fb-9a51-ffa7b4bc9da7",
   "metadata": {},
   "outputs": [],
   "source": [
    "# Verifying that the DOB column is correctly formatted as datetime64"
   ]
  },
  {
   "cell_type": "code",
   "execution_count": 24,
   "id": "c91af680-f00e-4aa8-a625-3ba30d5c190d",
   "metadata": {
    "scrolled": true
   },
   "outputs": [
    {
     "name": "stdout",
     "output_type": "stream",
     "text": [
      "Columns and Data Types of df_pat:\n",
      "PAT_ID                object\n",
      "PATIENT               object\n",
      "DOB           datetime64[ns]\n",
      "CUR_DOC_ID             int64\n",
      "dtype: object\n"
     ]
    }
   ],
   "source": [
    "print(\"Columns and Data Types of df_pat:\")\n",
    "print(df_pat.dtypes)"
   ]
  },
  {
   "cell_type": "code",
   "execution_count": 26,
   "id": "b5644fe5-c9d2-41be-85b1-a8e981456468",
   "metadata": {},
   "outputs": [],
   "source": [
    "# Verifying that the VISIT_DATE column is correctly formatted as datetime"
   ]
  },
  {
   "cell_type": "code",
   "execution_count": 28,
   "id": "897d6f01-2d29-4c99-b3e1-2a00ff97035b",
   "metadata": {},
   "outputs": [
    {
     "name": "stdout",
     "output_type": "stream",
     "text": [
      "Columns and Data Types of df_visit:\n",
      "PAT_ID          object\n",
      "VISIT_ID        object\n",
      "DEPT_ID         object\n",
      "VISIT_DOC_ID     int64\n",
      "VISIT_DATE      object\n",
      "dtype: object\n"
     ]
    }
   ],
   "source": [
    "print(\"Columns and Data Types of df_visit:\")\n",
    "print(df_visit.dtypes)\n"
   ]
  },
  {
   "cell_type": "code",
   "execution_count": 30,
   "id": "ecb81551-c19d-41a7-a532-d861952bb5e8",
   "metadata": {},
   "outputs": [],
   "source": [
    "# Converting VISIT_DATE into datetime"
   ]
  },
  {
   "cell_type": "code",
   "execution_count": 32,
   "id": "fed76200-a282-4176-b42e-a01742d31124",
   "metadata": {},
   "outputs": [],
   "source": [
    "df_visit['VISIT_DATE'] = pd.to_datetime(df_visit['VISIT_DATE'])"
   ]
  },
  {
   "cell_type": "code",
   "execution_count": 34,
   "id": "4e13dc13-0145-4a88-99ee-535edf45771d",
   "metadata": {},
   "outputs": [],
   "source": [
    "# Code to store pandas DataFrames into SQLite database tables using SQLAlchemy."
   ]
  },
  {
   "cell_type": "code",
   "execution_count": 36,
   "id": "8ac9f43f-6d9c-420b-a15f-e0c040fcd10c",
   "metadata": {},
   "outputs": [
    {
     "data": {
      "text/plain": [
       "1428"
      ]
     },
     "execution_count": 36,
     "metadata": {},
     "output_type": "execute_result"
    }
   ],
   "source": [
    "df_pat.to_sql('df_pat', engine, index=False)\n",
    "df_visit.to_sql('df_visit', engine, index=False)\n",
    "df_provider.to_sql('df_provider', engine, index=False)\n",
    "df_dept.to_sql('df_dept', engine, index=False)\n",
    "df_doc_dept.to_sql('df_doc_dept', engine, index=False)\n"
   ]
  },
  {
   "cell_type": "code",
   "execution_count": 38,
   "id": "a17859a5-7005-4d14-860f-048829a52532",
   "metadata": {},
   "outputs": [],
   "source": [
    "# SQL query."
   ]
  },
  {
   "cell_type": "code",
   "execution_count": 40,
   "id": "62bf19e8-0ad2-4f98-814d-9f229586e4fc",
   "metadata": {},
   "outputs": [],
   "source": [
    "sql_query = \"\"\"\n",
    "SELECT\n",
    "    P.PAT_ID,\n",
    "    P.PATIENT,\n",
    "    P.DOB,\n",
    "    PD_CUR.DOC_NAME AS CUR_DOC,\n",
    "    V.VISIT_DATE,\n",
    "    V.VISIT_ID,\n",
    "    PD_VISIT.DOC_NAME AS VISIT_DOC,\n",
    "    D.DEPT_NAME,\n",
    "    CASE WHEN D.FPG_DEPT_FLAG = 1 THEN 'Y' ELSE 'N' END AS VISIT_AT_FPG,\n",
    "    CASE WHEN DD.FPG_DEPT_FLAG = 1 THEN 'Y' ELSE 'N' END AS CUR_DOC_FPG,\n",
    "    CASE WHEN P.CUR_DOC_ID = V.VISIT_DOC_ID THEN 'Y' ELSE 'N' END AS CUR_DOC_IS_VIS_DOC,\n",
    "    CAST((julianday(V.VISIT_DATE) - julianday(P.DOB)) / 365.25 AS INTEGER) AS Age_at_Visit\n",
    "FROM\n",
    "    df_pat P\n",
    "JOIN\n",
    "    df_visit V ON P.PAT_ID = V.PAT_ID\n",
    "JOIN\n",
    "    df_provider PD_CUR ON P.CUR_DOC_ID = PD_CUR.DOC_ID\n",
    "JOIN\n",
    "    df_provider PD_VISIT ON V.VISIT_DOC_ID = PD_VISIT.DOC_ID\n",
    "JOIN\n",
    "    df_dept D ON V.DEPT_ID = D.DEPT_ID\n",
    "JOIN\n",
    "    df_doc_dept DD ON P.CUR_DOC_ID = DD.DOC_ID AND DD.LINE = 1\n",
    "WHERE\n",
    "    D.FPG_DEPT_FLAG = 1;\n",
    "\"\"\""
   ]
  },
  {
   "cell_type": "code",
   "execution_count": 42,
   "id": "3be6f01c-2bde-4216-b13d-2ad28da835b5",
   "metadata": {},
   "outputs": [],
   "source": [
    "# Pandas is used to execute a SQL query on a database via an SQLAlchemy Engine object (engine) and store the result in a Dataframe. "
   ]
  },
  {
   "cell_type": "code",
   "execution_count": 44,
   "id": "fc0d3650-b9d9-44df-bd93-b25afb832c3e",
   "metadata": {},
   "outputs": [],
   "source": [
    "df_output = pd.read_sql_query(sql_query, engine)"
   ]
  },
  {
   "cell_type": "code",
   "execution_count": 46,
   "id": "211c5dea-2418-4265-a084-294a6ca6ca48",
   "metadata": {},
   "outputs": [],
   "source": [
    "# Output"
   ]
  },
  {
   "cell_type": "code",
   "execution_count": 48,
   "id": "bee1f3bf-1de0-4650-bf9a-889880056aa7",
   "metadata": {},
   "outputs": [
    {
     "data": {
      "text/html": [
       "<div>\n",
       "<style scoped>\n",
       "    .dataframe tbody tr th:only-of-type {\n",
       "        vertical-align: middle;\n",
       "    }\n",
       "\n",
       "    .dataframe tbody tr th {\n",
       "        vertical-align: top;\n",
       "    }\n",
       "\n",
       "    .dataframe thead th {\n",
       "        text-align: right;\n",
       "    }\n",
       "</style>\n",
       "<table border=\"1\" class=\"dataframe\">\n",
       "  <thead>\n",
       "    <tr style=\"text-align: right;\">\n",
       "      <th></th>\n",
       "      <th>PAT_ID</th>\n",
       "      <th>PATIENT</th>\n",
       "      <th>DOB</th>\n",
       "      <th>CUR_DOC</th>\n",
       "      <th>VISIT_DATE</th>\n",
       "      <th>VISIT_ID</th>\n",
       "      <th>VISIT_DOC</th>\n",
       "      <th>DEPT_NAME</th>\n",
       "      <th>VISIT_AT_FPG</th>\n",
       "      <th>CUR_DOC_FPG</th>\n",
       "      <th>CUR_DOC_IS_VIS_DOC</th>\n",
       "      <th>Age_at_Visit</th>\n",
       "    </tr>\n",
       "  </thead>\n",
       "  <tbody>\n",
       "    <tr>\n",
       "      <th>0</th>\n",
       "      <td>Z37470</td>\n",
       "      <td>PAT CEN</td>\n",
       "      <td>1969-01-22 00:00:00.000000</td>\n",
       "      <td>HOCDOC217</td>\n",
       "      <td>2020-05-21 00:00:00.000000</td>\n",
       "      <td>VIS-41852</td>\n",
       "      <td>QUIDOC799</td>\n",
       "      <td>EAS DEP23</td>\n",
       "      <td>Y</td>\n",
       "      <td>Y</td>\n",
       "      <td>N</td>\n",
       "      <td>51</td>\n",
       "    </tr>\n",
       "  </tbody>\n",
       "</table>\n",
       "</div>"
      ],
      "text/plain": [
       "   PAT_ID  PATIENT                         DOB    CUR_DOC  \\\n",
       "0  Z37470  PAT CEN  1969-01-22 00:00:00.000000  HOCDOC217   \n",
       "\n",
       "                   VISIT_DATE   VISIT_ID  VISIT_DOC  DEPT_NAME VISIT_AT_FPG  \\\n",
       "0  2020-05-21 00:00:00.000000  VIS-41852  QUIDOC799  EAS DEP23            Y   \n",
       "\n",
       "  CUR_DOC_FPG CUR_DOC_IS_VIS_DOC  Age_at_Visit  \n",
       "0           Y                  N            51  "
      ]
     },
     "execution_count": 48,
     "metadata": {},
     "output_type": "execute_result"
    }
   ],
   "source": [
    "df_output"
   ]
  },
  {
   "cell_type": "code",
   "execution_count": null,
   "id": "26050cb1-f9b2-48ef-b2d8-8113725c1543",
   "metadata": {},
   "outputs": [],
   "source": []
  }
 ],
 "metadata": {
  "kernelspec": {
   "display_name": "Python 3 (ipykernel)",
   "language": "python",
   "name": "python3"
  },
  "language_info": {
   "codemirror_mode": {
    "name": "ipython",
    "version": 3
   },
   "file_extension": ".py",
   "mimetype": "text/x-python",
   "name": "python",
   "nbconvert_exporter": "python",
   "pygments_lexer": "ipython3",
   "version": "3.12.4"
  }
 },
 "nbformat": 4,
 "nbformat_minor": 5
}
